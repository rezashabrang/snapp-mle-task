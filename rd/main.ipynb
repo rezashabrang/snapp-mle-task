{
 "cells": [
  {
   "cell_type": "markdown",
   "metadata": {},
   "source": [
    "# Main sandbox for R&D"
   ]
  },
  {
   "cell_type": "markdown",
   "metadata": {},
   "source": [
    "## Initialization\n",
    "<p> All imports goes here </p>"
   ]
  },
  {
   "cell_type": "code",
   "execution_count": 2,
   "metadata": {},
   "outputs": [
    {
     "name": "stderr",
     "output_type": "stream",
     "text": [
      "/tmp/ipykernel_45351/1964840149.py:10: FutureWarning: The `utils.config` function is deprecated and will be removed in the v2.0.0 release. Instead, use the `settings` module directly to configure a global setting's value. For example, `ox.settings.log_console=True`. See the OSMnx v2 migration guide: https://github.com/gboeing/osmnx/issues/1123\n",
      "  ox.config(log_console=True, use_cache=True)\n"
     ]
    }
   ],
   "source": [
    "import pandas as pd\n",
    "import osmnx as ox\n",
    "import folium\n",
    "import geopandas as gpd\n",
    "from shapely.geometry import Point, Polygon\n",
    "import plotly.express as px\n",
    "import hdbscan\n",
    "import math\n",
    "\n",
    "ox.config(log_console=True, use_cache=True)"
   ]
  },
  {
   "cell_type": "markdown",
   "metadata": {},
   "source": [
    "## Raw Data Visualization\n",
    "<p> First off we are going to take a peek at data on the map and see what we are dealing with </p>"
   ]
  },
  {
   "cell_type": "code",
   "execution_count": 3,
   "metadata": {},
   "outputs": [
    {
     "data": {
      "text/html": [
       "<div>\n",
       "<style scoped>\n",
       "    .dataframe tbody tr th:only-of-type {\n",
       "        vertical-align: middle;\n",
       "    }\n",
       "\n",
       "    .dataframe tbody tr th {\n",
       "        vertical-align: top;\n",
       "    }\n",
       "\n",
       "    .dataframe thead th {\n",
       "        text-align: right;\n",
       "    }\n",
       "</style>\n",
       "<table border=\"1\" class=\"dataframe\">\n",
       "  <thead>\n",
       "    <tr style=\"text-align: right;\">\n",
       "      <th></th>\n",
       "      <th>id</th>\n",
       "      <th>origin_lat</th>\n",
       "      <th>origin_lng</th>\n",
       "      <th>destination_lat</th>\n",
       "      <th>destination_lng</th>\n",
       "    </tr>\n",
       "  </thead>\n",
       "  <tbody>\n",
       "    <tr>\n",
       "      <th>0</th>\n",
       "      <td>8050084674</td>\n",
       "      <td>35.769844</td>\n",
       "      <td>51.366798</td>\n",
       "      <td>35.761581</td>\n",
       "      <td>51.403202</td>\n",
       "    </tr>\n",
       "    <tr>\n",
       "      <th>1</th>\n",
       "      <td>8055547548</td>\n",
       "      <td>35.698536</td>\n",
       "      <td>51.490612</td>\n",
       "      <td>35.658817</td>\n",
       "      <td>51.397949</td>\n",
       "    </tr>\n",
       "    <tr>\n",
       "      <th>2</th>\n",
       "      <td>8052893242</td>\n",
       "      <td>35.729149</td>\n",
       "      <td>51.554649</td>\n",
       "      <td>35.742706</td>\n",
       "      <td>51.565334</td>\n",
       "    </tr>\n",
       "    <tr>\n",
       "      <th>3</th>\n",
       "      <td>8067231026</td>\n",
       "      <td>35.685909</td>\n",
       "      <td>51.419937</td>\n",
       "      <td>35.745754</td>\n",
       "      <td>51.420338</td>\n",
       "    </tr>\n",
       "    <tr>\n",
       "      <th>4</th>\n",
       "      <td>8051092783</td>\n",
       "      <td>35.742085</td>\n",
       "      <td>51.438961</td>\n",
       "      <td>35.603508</td>\n",
       "      <td>51.400173</td>\n",
       "    </tr>\n",
       "    <tr>\n",
       "      <th>...</th>\n",
       "      <td>...</td>\n",
       "      <td>...</td>\n",
       "      <td>...</td>\n",
       "      <td>...</td>\n",
       "      <td>...</td>\n",
       "    </tr>\n",
       "    <tr>\n",
       "      <th>99995</th>\n",
       "      <td>8074092556</td>\n",
       "      <td>35.787411</td>\n",
       "      <td>51.503502</td>\n",
       "      <td>35.795544</td>\n",
       "      <td>51.498772</td>\n",
       "    </tr>\n",
       "    <tr>\n",
       "      <th>99996</th>\n",
       "      <td>8064670176</td>\n",
       "      <td>35.763897</td>\n",
       "      <td>51.348629</td>\n",
       "      <td>35.775799</td>\n",
       "      <td>51.347256</td>\n",
       "    </tr>\n",
       "    <tr>\n",
       "      <th>99997</th>\n",
       "      <td>8050188722</td>\n",
       "      <td>35.685860</td>\n",
       "      <td>51.414677</td>\n",
       "      <td>35.784729</td>\n",
       "      <td>51.353745</td>\n",
       "    </tr>\n",
       "    <tr>\n",
       "      <th>99998</th>\n",
       "      <td>8071806219</td>\n",
       "      <td>35.738853</td>\n",
       "      <td>51.467167</td>\n",
       "      <td>35.745167</td>\n",
       "      <td>51.398777</td>\n",
       "    </tr>\n",
       "    <tr>\n",
       "      <th>99999</th>\n",
       "      <td>8083642556</td>\n",
       "      <td>35.662914</td>\n",
       "      <td>51.446220</td>\n",
       "      <td>35.654209</td>\n",
       "      <td>51.457985</td>\n",
       "    </tr>\n",
       "  </tbody>\n",
       "</table>\n",
       "<p>100000 rows × 5 columns</p>\n",
       "</div>"
      ],
      "text/plain": [
       "               id  origin_lat  origin_lng  destination_lat  destination_lng\n",
       "0      8050084674   35.769844   51.366798        35.761581        51.403202\n",
       "1      8055547548   35.698536   51.490612        35.658817        51.397949\n",
       "2      8052893242   35.729149   51.554649        35.742706        51.565334\n",
       "3      8067231026   35.685909   51.419937        35.745754        51.420338\n",
       "4      8051092783   35.742085   51.438961        35.603508        51.400173\n",
       "...           ...         ...         ...              ...              ...\n",
       "99995  8074092556   35.787411   51.503502        35.795544        51.498772\n",
       "99996  8064670176   35.763897   51.348629        35.775799        51.347256\n",
       "99997  8050188722   35.685860   51.414677        35.784729        51.353745\n",
       "99998  8071806219   35.738853   51.467167        35.745167        51.398777\n",
       "99999  8083642556   35.662914   51.446220        35.654209        51.457985\n",
       "\n",
       "[100000 rows x 5 columns]"
      ]
     },
     "execution_count": 3,
     "metadata": {},
     "output_type": "execute_result"
    }
   ],
   "source": [
    "# Reading the given csv file\n",
    "coord_df = pd.read_csv(\"../data/rides-data.csv\", index_col=0).reset_index(drop=True)\n",
    "coord_df"
   ]
  },
  {
   "cell_type": "markdown",
   "metadata": {},
   "source": [
    "### Reshaping the data for viewing.\n",
    "<p> At first glance we don't need the type of the coordinates (Origin, Destination) as so if people are going to the crowded places, namely, universities and malls they probably are going to also use Snapp to get back. So overall we want to see the density over these places whether they are going to them or coming from them </p>"
   ]
  },
  {
   "cell_type": "code",
   "execution_count": 4,
   "metadata": {},
   "outputs": [],
   "source": [
    "# Reshaping the DataFrame\n",
    "df_long = pd.melt(\n",
    "    coord_df,\n",
    "    id_vars=[\"id\"],\n",
    "    value_vars=[\"origin_lat\", \"origin_lng\", \"destination_lat\", \"destination_lng\"],\n",
    "    var_name=\"type\",\n",
    "    value_name=\"coordinate\",\n",
    ")\n",
    "\n",
    "# Split 'type' into two columns 'location_type' and 'coord_type'\n",
    "df_long[\"location_type\"] = df_long[\"type\"].apply(lambda x: x.split(\"_\")[0])\n",
    "df_long[\"coord_type\"] = df_long[\"type\"].apply(lambda x: x.split(\"_\")[1])\n",
    "\n",
    "# Pivot the table to get 'lat' and 'long' in separate columns\n",
    "df_points = df_long.pivot_table(\n",
    "    index=[\"id\", \"location_type\"],\n",
    "    columns=\"coord_type\",\n",
    "    values=\"coordinate\",\n",
    "    aggfunc=\"first\",\n",
    ").reset_index()\n",
    "\n",
    "# Rename columns for clarity\n",
    "df_points.columns = [\"id\", \"coord_type\", \"lat\", \"long\"]\n",
    "\n",
    "df_points.to_csv(\"../data/exploded_rides_data.csv\")"
   ]
  },
  {
   "cell_type": "markdown",
   "metadata": {},
   "source": [
    "<p> So by looking at map specially the places mentioned in the hint part we see that there is a high density of points there. We can assume that the task of finding entrances of these crowded places is an unspervised learning problem,\n",
    "specifcally we need clustering mecahnism for points around these and the centroids of the clusters probably can give us a good estimates on the entrances. </p>"
   ]
  },
  {
   "cell_type": "markdown",
   "metadata": {},
   "source": [
    "## Point Filtering"
   ]
  },
  {
   "cell_type": "markdown",
   "metadata": {},
   "source": [
    "<p>\n",
    "So now we want to try and find the entrances of these places mentioned in the hint part. Let's sit back and think a little about how we can do so. As mentioned we want to perform clustering on the data.\n",
    "But before doing so on which points should we do the clustering?\n",
    "\n",
    "The obvious exlusion is that we should not use all available points to us, because doing so leads to great error. Also not only malls and universities are crowded. There are other crowded places like squares (Enghelab, Azadi), intersections (valiasr) and more which don't have entrances.\n",
    "\n",
    "So first we need to filter the points. But how can we do so?\n",
    "\n",
    "One solution that comes to mind is to find the center of the place and then set a radius for example 100 meters and filter the points from the rides using this and then perform clustering.\n",
    "\n",
    "There is a princial flaw to this method: The circle we choose as boundary may not contain relevent points or worst case any points at all depending on the structure of the place.\n",
    "Let's illustrate this by some images.\n",
    "\n",
    "<img src=\"../images/bad-boundary1.svg\" width=\"400\" height=\"400\">\n",
    "<br>\n",
    "<small>Bad Boundary Example: The building is too long and the circle boundary does not contain relevent points</small>\n",
    "<br><br>\n",
    "<img src=\"../images/bad-boundary2.svg\" width=\"400\" height=\"400\"><br>\n",
    "<small>Bad Boundary Example. The center is outside the building structure itself.</small>\n",
    "\n",
    "We may increase the 100 meters radius mentioned but this may lead to finding extra points that not relevent to that specific place, like if two malls are close to each other if the defined radius threshold is too high the boundary of one mall may contain points from other mall (Near San'at square exists several malls that are near each other like Setin, Milad Noor and Lidoma) and that leads to error in clustering.\n",
    "\n",
    "Also some points that are inside of the building gets included by this approach (entrances are not placed inside a place).\n",
    "As you see this method will not work for this case.\n",
    "\n",
    "So what other options do we have?\n",
    "\n",
    "How about choosing points that reside at the boundries of the place with a certain distance (Buffered Polygon)?\n",
    "This is a more intuitive and logical approach as it is shape-agnostic and does not depened on the structure of the building. Also it reduces the chance of overlapping for places that are near each other (This of course needs a good distance value from polygon boundaries and is a heuristic that needs to be calculated carefully).\n",
    "Another merit of this approach is that it does not contain the points inside of the building.<br>\n",
    "<b>NOTE:</b> By looking at the points visualization there are not many points inside of a building and these can probably be removed using outlier detection methods, but this is prone to error and buffered polyon can be assumed as a safer and more accurate approach.\n",
    "\n",
    "\n",
    "So overall by using this we can filter more accurate points that can be used in clustering for finding entrances.\n",
    "\n",
    "\n",
    "<img src=\"../images/iranmall-buffer.png\" width=\"488\" height=\"348\">\n",
    "<br>\n",
    "<small>Buffered Iran Mall Region</small>\n",
    "\n",
    "So to summarize we discussed two methods for point filtering:\n",
    "<ul>\n",
    "    <li>\n",
    "        <b>Circular Boundary From The Center</b><br>\n",
    "        <small>Disadvantages</small>\n",
    "        <ul>\n",
    "            <li>May not contain all points</li>\n",
    "            <li>May not contain any points at all</li>\n",
    "            <li>May overlap with points of other places</li>\n",
    "            <li>Contains points inside of a place</li>\n",
    "        </ul>\n",
    "        <small>Advantages</small>\n",
    "        <ul>\n",
    "            <li>Easy to implement and understand</li>\n",
    "        </ul>\n",
    "    </li>\n",
    "    <li>\n",
    "        <b>Buffered Polygon</b><br>\n",
    "        <small>Disadvantages</small>\n",
    "        <ul>\n",
    "            <li>Harder to implement</li>\n",
    "        </ul>\n",
    "        <small>Advantages</small>\n",
    "        <ul>\n",
    "            <li>More intuitive</li>\n",
    "            <li>Contains relevent points</li>\n",
    "            <li>Exludes points inside of a place</li>\n",
    "        </ul>\n",
    "    </li>\n",
    "</ul>\n",
    "</p>\n",
    "\n",
    "<p> Now let's dive into coding </p>"
   ]
  },
  {
   "cell_type": "markdown",
   "metadata": {},
   "source": [
    "### Finding polygons of places"
   ]
  },
  {
   "cell_type": "code",
   "execution_count": 5,
   "metadata": {},
   "outputs": [
    {
     "data": {
      "text/plain": [
       "'\\n# Use queries to find polygons\\nplace_query = \"South Terminal, Tehran, Iran\"\\n\\n# Fetch the geometries data\\nresults = ox.features_from_place(place_query, tags={\"place\": True})\\nresults\\n'"
      ]
     },
     "execution_count": 5,
     "metadata": {},
     "output_type": "execute_result"
    }
   ],
   "source": [
    "\"\"\"\n",
    "# Use queries to find polygons\n",
    "place_query = \"South Terminal, Tehran, Iran\"\n",
    "\n",
    "# Fetch the geometries data\n",
    "results = ox.features_from_place(place_query, tags={\"place\": True})\n",
    "results\n",
    "\"\"\""
   ]
  },
  {
   "cell_type": "markdown",
   "metadata": {},
   "source": [
    "<p>\n",
    "These sources where used for finding the OSM Ids:\n",
    "<ul>\n",
    "    <li><a href=https://www.openstreetmap.org>Open Street Map </a></li>\n",
    "    <li><a href=https://nominatim.openstreetmap.org> Nominatim API </a></li>\n",
    "<ul>\n",
    "</p>"
   ]
  },
  {
   "cell_type": "code",
   "execution_count": 6,
   "metadata": {},
   "outputs": [],
   "source": [
    "# Obtained by searching through google maps and OSM results.\n",
    "# Buffer is a heuristic defined by looking at map and trial and error\n",
    "places_meta = [\n",
    "    {\"place\": \"Opal\", \"osm_query\": \"W498492266\", \"buffer\": 5},\n",
    "    {\"place\": \"Koroush\", \"osm_query\": \"W320902874\", \"buffer\": 30},\n",
    "    {\"place\": \"Iran Mall\", \"osm_query\": \"R8129683\", \"buffer\": 50},\n",
    "    {\"place\": \"Paladium\", \"osm_query\": \"W678453222\", \"buffer\": 10},\n",
    "    {\"place\": \"Mehr Abad\", \"osm_query\": \"W175770954\", \"buffer\": -50},\n",
    "    {\"place\": \"West Terminal\", \"osm_query\": \"W182016096\", \"buffer\": 50},\n",
    "    {\"place\": \"Imam Khomeini Hospital\", \"osm_query\": \"W191445129\", \"buffer\": 10},\n",
    "    {\"place\": \"Shariati Hospital\", \"osm_query\": \"W438148006\", \"buffer\": 10},\n",
    "    {\n",
    "        \"place\": \"Technical Faculties of Tehran University\",\n",
    "        \"osm_query\": \"W385628505\",\n",
    "        \"buffer\": 10,\n",
    "    },\n",
    "]"
   ]
  },
  {
   "cell_type": "code",
   "execution_count": 7,
   "metadata": {},
   "outputs": [],
   "source": [
    "# South Terminal polygon was not available in OSM so I draw it manualy on https://geojson.io/\n",
    "south_terminal_geojson = {\n",
    "    \"type\": \"FeatureCollection\",\n",
    "    \"features\": [\n",
    "        {\n",
    "            \"type\": \"Feature\",\n",
    "            \"properties\": {},\n",
    "            \"geometry\": {\n",
    "                \"coordinates\": [\n",
    "                    [\n",
    "                        [51.41681851494866, 35.65187874692117],\n",
    "                        [51.41744830103832, 35.64760059502382],\n",
    "                        [51.42087064573448, 35.64719545756819],\n",
    "                        [51.421273776391985, 35.64733883570075],\n",
    "                        [51.42128511578716, 35.65056043270057],\n",
    "                        [51.41681851494866, 35.65187874692117],\n",
    "                    ]\n",
    "                ],\n",
    "                \"type\": \"Polygon\",\n",
    "            },\n",
    "        }\n",
    "    ],\n",
    "}\n",
    "# Extract coordinates\n",
    "coordinates = south_terminal_geojson[\"features\"][0][\"geometry\"][\"coordinates\"][0]\n",
    "ST_GDF = gpd.GeoDataFrame(\n",
    "    geometry=[Polygon(coordinates)]\n",
    ")  # South Terminal Geo Dataframe\n",
    "ST_GDF = ST_GDF.set_crs(epsg=4326)"
   ]
  },
  {
   "cell_type": "markdown",
   "metadata": {},
   "source": [
    "### Visualizing buffered polygons"
   ]
  },
  {
   "cell_type": "code",
   "execution_count": 8,
   "metadata": {},
   "outputs": [],
   "source": [
    "# The function for handling south terminal buffered polygon.\n",
    "def handle_south_terminal(m) -> gpd.geopandas.GeoDataFrame:\n",
    "    global ST_GDF\n",
    "    \"\"\"Function for handling the south terminal polygon.\n",
    "    Args:\n",
    "        m: The folium map object.\n",
    "\n",
    "    Returns:\n",
    "        A GeoDataFrame containing the south terminal polygon and its buffered version.\n",
    "    \"\"\"\n",
    "    # Project to UTM zone appropriate for Tehran (for accurate distance measurements)\n",
    "    polygon = ST_GDF.to_crs(epsg=32639)\n",
    "    # Buffer the polygon by meters\n",
    "    buffered_polygon = polygon[\"geometry\"].buffer(20)\n",
    "\n",
    "    # Project back to WGS84 for mapping\n",
    "    polygon = polygon.to_crs(epsg=4326)\n",
    "    buffered_polygon = buffered_polygon.to_crs(epsg=4326)\n",
    "\n",
    "    # Adding the polygon to the map\n",
    "    folium.GeoJson(polygon, name=\"Polygons\").add_to(m)\n",
    "    # Adding the buffered polygon to the map\n",
    "    folium.GeoJson(\n",
    "        buffered_polygon,\n",
    "        name=\"Buffers\",\n",
    "        style_function=lambda x: {\n",
    "            \"color\": \"red\",\n",
    "            \"fillColor\": \"red\",\n",
    "            \"fillOpacity\": 0.1,\n",
    "        },\n",
    "    ).add_to(m)\n",
    "\n",
    "    return gpd.GeoDataFrame(\n",
    "        {\n",
    "            \"name\": [\"South Terminal\"],\n",
    "            \"original_polygon\": [polygon.geometry.iloc[0]],\n",
    "            \"buffered_polygon\": [buffered_polygon.geometry.iloc[0]],\n",
    "        },\n",
    "        geometry=\"original_polygon\",\n",
    "        crs=\"EPSG:4326\",\n",
    "    )"
   ]
  },
  {
   "cell_type": "code",
   "execution_count": 9,
   "metadata": {},
   "outputs": [],
   "source": [
    "# Initialize the map with Azadi square\n",
    "m = folium.Map(location=[35.699704, 51.337433], zoom_start=15)\n",
    "entries = []\n",
    "\n",
    "for place_meta in places_meta:\n",
    "    # Fetch geometries from OSM\n",
    "    polygon = ox.geocode_to_gdf(place_meta[\"osm_query\"], by_osmid=True)\n",
    "    # Project to UTM zone appropriate for Tehran (for accurate distance measurements)\n",
    "    polygon = polygon.to_crs(epsg=32639)\n",
    "    # Buffer the polygon by meters\n",
    "    buffered_polygon = polygon[\"geometry\"].buffer(place_meta[\"buffer\"])\n",
    "\n",
    "    # Project back to WGS84 for mapping\n",
    "    polygon = polygon.to_crs(epsg=4326)\n",
    "    buffered_polygon = buffered_polygon.to_crs(epsg=4326)\n",
    "\n",
    "    # Adding the polygon to the map\n",
    "    folium.GeoJson(polygon, name=\"Polygons\").add_to(m)\n",
    "    # Adding the buffered polygon to the map\n",
    "    folium.GeoJson(\n",
    "        buffered_polygon,\n",
    "        name=\"Buffers\",\n",
    "        style_function=lambda x: {\n",
    "            \"color\": \"red\",\n",
    "            \"fillColor\": \"red\",\n",
    "            \"fillOpacity\": 0.1,\n",
    "        },\n",
    "    ).add_to(m)\n",
    "    # Append data to the GeoDataFrame\n",
    "    temp_gdf = gpd.GeoDataFrame(\n",
    "        {\n",
    "            \"name\": [place_meta[\"place\"]],\n",
    "            \"original_polygon\": [polygon.geometry.iloc[0]],\n",
    "            \"buffered_polygon\": [buffered_polygon.geometry.iloc[0]],\n",
    "        },\n",
    "        geometry=\"original_polygon\",\n",
    "        crs=\"EPSG:4326\",\n",
    "    )\n",
    "    entries.append(temp_gdf)\n",
    "\n",
    "# For the sake of readability and cleaner code we defined a function for handling South Terminal\n",
    "south_terminal_gdf = handle_south_terminal(m)\n",
    "entries.append(south_terminal_gdf)\n",
    "# The geoDataFrame containing original and buffered polygons for each place.\n",
    "gdf = pd.concat(entries, ignore_index=True)\n",
    "\n",
    "# Visualizing buffered polygons\n",
    "folium.LayerControl().add_to(m)\n",
    "m.save(\"/home/reza/Desktop/snapp-task/buffered_polygons.html\")\n",
    "m.save(\"../data/buffered_polygons.html\")"
   ]
  },
  {
   "cell_type": "code",
   "execution_count": 10,
   "metadata": {},
   "outputs": [
    {
     "data": {
      "text/html": [
       "<div>\n",
       "<style scoped>\n",
       "    .dataframe tbody tr th:only-of-type {\n",
       "        vertical-align: middle;\n",
       "    }\n",
       "\n",
       "    .dataframe tbody tr th {\n",
       "        vertical-align: top;\n",
       "    }\n",
       "\n",
       "    .dataframe thead th {\n",
       "        text-align: right;\n",
       "    }\n",
       "</style>\n",
       "<table border=\"1\" class=\"dataframe\">\n",
       "  <thead>\n",
       "    <tr style=\"text-align: right;\">\n",
       "      <th></th>\n",
       "      <th>name</th>\n",
       "      <th>original_polygon</th>\n",
       "      <th>buffered_polygon</th>\n",
       "    </tr>\n",
       "  </thead>\n",
       "  <tbody>\n",
       "    <tr>\n",
       "      <th>0</th>\n",
       "      <td>Opal</td>\n",
       "      <td>POLYGON ((51.35069 35.77713, 51.35075 35.77685...</td>\n",
       "      <td>POLYGON ((51.35067872746119 35.77717418172322,...</td>\n",
       "    </tr>\n",
       "    <tr>\n",
       "      <th>1</th>\n",
       "      <td>Koroush</td>\n",
       "      <td>POLYGON ((51.31350 35.73830, 51.31369 35.73827...</td>\n",
       "      <td>POLYGON ((51.31317420547965 35.73834576203107,...</td>\n",
       "    </tr>\n",
       "    <tr>\n",
       "      <th>2</th>\n",
       "      <td>Iran Mall</td>\n",
       "      <td>POLYGON ((51.18893 35.75469, 51.18955 35.75195...</td>\n",
       "      <td>POLYGON ((51.188825132572084 35.75512866221741...</td>\n",
       "    </tr>\n",
       "    <tr>\n",
       "      <th>3</th>\n",
       "      <td>Paladium</td>\n",
       "      <td>POLYGON ((51.41324 35.79645, 51.41335 35.79616...</td>\n",
       "      <td>POLYGON ((51.41316458343045 35.796513166194565...</td>\n",
       "    </tr>\n",
       "    <tr>\n",
       "      <th>4</th>\n",
       "      <td>Mehr Abad</td>\n",
       "      <td>POLYGON ((51.26210 35.68252, 51.26216 35.68238...</td>\n",
       "      <td>POLYGON ((51.262671789664985 35.68255298474467...</td>\n",
       "    </tr>\n",
       "    <tr>\n",
       "      <th>5</th>\n",
       "      <td>West Terminal</td>\n",
       "      <td>POLYGON ((51.33123 35.70714, 51.33157 35.70185...</td>\n",
       "      <td>POLYGON ((51.33085766113199 35.70747283366887,...</td>\n",
       "    </tr>\n",
       "    <tr>\n",
       "      <th>6</th>\n",
       "      <td>Imam Khomeini Hospital</td>\n",
       "      <td>POLYGON ((51.37803 35.70742, 51.37980 35.70737...</td>\n",
       "      <td>POLYGON ((51.377922560887576 35.70741795313682...</td>\n",
       "    </tr>\n",
       "    <tr>\n",
       "      <th>7</th>\n",
       "      <td>Shariati Hospital</td>\n",
       "      <td>POLYGON ((51.38520 35.71957, 51.38697 35.71986...</td>\n",
       "      <td>POLYGON ((51.38509296800884 35.7195772130028, ...</td>\n",
       "    </tr>\n",
       "    <tr>\n",
       "      <th>8</th>\n",
       "      <td>Technical Faculties of Tehran University</td>\n",
       "      <td>POLYGON ((51.38450 35.72639, 51.38453 35.72506...</td>\n",
       "      <td>POLYGON ((51.38448632080887 35.72647678402527,...</td>\n",
       "    </tr>\n",
       "    <tr>\n",
       "      <th>9</th>\n",
       "      <td>South Terminal</td>\n",
       "      <td>POLYGON ((51.41682 35.65188, 51.41745 35.64760...</td>\n",
       "      <td>POLYGON ((51.416893643085324 35.65204832742704...</td>\n",
       "    </tr>\n",
       "  </tbody>\n",
       "</table>\n",
       "</div>"
      ],
      "text/plain": [
       "                                       name  \\\n",
       "0                                      Opal   \n",
       "1                                   Koroush   \n",
       "2                                 Iran Mall   \n",
       "3                                  Paladium   \n",
       "4                                 Mehr Abad   \n",
       "5                             West Terminal   \n",
       "6                    Imam Khomeini Hospital   \n",
       "7                         Shariati Hospital   \n",
       "8  Technical Faculties of Tehran University   \n",
       "9                            South Terminal   \n",
       "\n",
       "                                    original_polygon  \\\n",
       "0  POLYGON ((51.35069 35.77713, 51.35075 35.77685...   \n",
       "1  POLYGON ((51.31350 35.73830, 51.31369 35.73827...   \n",
       "2  POLYGON ((51.18893 35.75469, 51.18955 35.75195...   \n",
       "3  POLYGON ((51.41324 35.79645, 51.41335 35.79616...   \n",
       "4  POLYGON ((51.26210 35.68252, 51.26216 35.68238...   \n",
       "5  POLYGON ((51.33123 35.70714, 51.33157 35.70185...   \n",
       "6  POLYGON ((51.37803 35.70742, 51.37980 35.70737...   \n",
       "7  POLYGON ((51.38520 35.71957, 51.38697 35.71986...   \n",
       "8  POLYGON ((51.38450 35.72639, 51.38453 35.72506...   \n",
       "9  POLYGON ((51.41682 35.65188, 51.41745 35.64760...   \n",
       "\n",
       "                                    buffered_polygon  \n",
       "0  POLYGON ((51.35067872746119 35.77717418172322,...  \n",
       "1  POLYGON ((51.31317420547965 35.73834576203107,...  \n",
       "2  POLYGON ((51.188825132572084 35.75512866221741...  \n",
       "3  POLYGON ((51.41316458343045 35.796513166194565...  \n",
       "4  POLYGON ((51.262671789664985 35.68255298474467...  \n",
       "5  POLYGON ((51.33085766113199 35.70747283366887,...  \n",
       "6  POLYGON ((51.377922560887576 35.70741795313682...  \n",
       "7  POLYGON ((51.38509296800884 35.7195772130028, ...  \n",
       "8  POLYGON ((51.38448632080887 35.72647678402527,...  \n",
       "9  POLYGON ((51.416893643085324 35.65204832742704...  "
      ]
     },
     "execution_count": 10,
     "metadata": {},
     "output_type": "execute_result"
    }
   ],
   "source": [
    "gdf"
   ]
  },
  {
   "cell_type": "markdown",
   "metadata": {},
   "source": [
    "### Assigning Points"
   ]
  },
  {
   "cell_type": "code",
   "execution_count": 11,
   "metadata": {},
   "outputs": [
    {
     "data": {
      "text/html": [
       "<div>\n",
       "<style scoped>\n",
       "    .dataframe tbody tr th:only-of-type {\n",
       "        vertical-align: middle;\n",
       "    }\n",
       "\n",
       "    .dataframe tbody tr th {\n",
       "        vertical-align: top;\n",
       "    }\n",
       "\n",
       "    .dataframe thead th {\n",
       "        text-align: right;\n",
       "    }\n",
       "</style>\n",
       "<table border=\"1\" class=\"dataframe\">\n",
       "  <thead>\n",
       "    <tr style=\"text-align: right;\">\n",
       "      <th></th>\n",
       "      <th>geometry</th>\n",
       "    </tr>\n",
       "  </thead>\n",
       "  <tbody>\n",
       "    <tr>\n",
       "      <th>0</th>\n",
       "      <td>POINT (51.44328 35.71973)</td>\n",
       "    </tr>\n",
       "    <tr>\n",
       "      <th>1</th>\n",
       "      <td>POINT (51.39507 35.73000)</td>\n",
       "    </tr>\n",
       "    <tr>\n",
       "      <th>2</th>\n",
       "      <td>POINT (51.15490 35.61023)</td>\n",
       "    </tr>\n",
       "    <tr>\n",
       "      <th>3</th>\n",
       "      <td>POINT (51.16530 35.60750)</td>\n",
       "    </tr>\n",
       "    <tr>\n",
       "      <th>4</th>\n",
       "      <td>POINT (51.48682 35.63324)</td>\n",
       "    </tr>\n",
       "    <tr>\n",
       "      <th>...</th>\n",
       "      <td>...</td>\n",
       "    </tr>\n",
       "    <tr>\n",
       "      <th>199995</th>\n",
       "      <td>POINT (51.33881 35.72066)</td>\n",
       "    </tr>\n",
       "    <tr>\n",
       "      <th>199996</th>\n",
       "      <td>POINT (51.49934 35.70968)</td>\n",
       "    </tr>\n",
       "    <tr>\n",
       "      <th>199997</th>\n",
       "      <td>POINT (51.45044 35.67175)</td>\n",
       "    </tr>\n",
       "    <tr>\n",
       "      <th>199998</th>\n",
       "      <td>POINT (51.31819 35.73754)</td>\n",
       "    </tr>\n",
       "    <tr>\n",
       "      <th>199999</th>\n",
       "      <td>POINT (51.43382 35.82135)</td>\n",
       "    </tr>\n",
       "  </tbody>\n",
       "</table>\n",
       "<p>200000 rows × 1 columns</p>\n",
       "</div>"
      ],
      "text/plain": [
       "                         geometry\n",
       "0       POINT (51.44328 35.71973)\n",
       "1       POINT (51.39507 35.73000)\n",
       "2       POINT (51.15490 35.61023)\n",
       "3       POINT (51.16530 35.60750)\n",
       "4       POINT (51.48682 35.63324)\n",
       "...                           ...\n",
       "199995  POINT (51.33881 35.72066)\n",
       "199996  POINT (51.49934 35.70968)\n",
       "199997  POINT (51.45044 35.67175)\n",
       "199998  POINT (51.31819 35.73754)\n",
       "199999  POINT (51.43382 35.82135)\n",
       "\n",
       "[200000 rows x 1 columns]"
      ]
     },
     "execution_count": 11,
     "metadata": {},
     "output_type": "execute_result"
    }
   ],
   "source": [
    "# Converting points to Geo Dataframe\n",
    "points_geodf = gpd.GeoDataFrame(\n",
    "    {\n",
    "        \"geometry\": [\n",
    "            Point(i[\"long\"], i[\"lat\"])\n",
    "            for i in df_points[[\"long\", \"lat\"]].to_dict(\"records\")\n",
    "        ]\n",
    "    },\n",
    "    crs=\"EPSG:4326\",\n",
    ")\n",
    "points_geodf"
   ]
  },
  {
   "cell_type": "code",
   "execution_count": 12,
   "metadata": {},
   "outputs": [
    {
     "data": {
      "text/html": [
       "<div>\n",
       "<style scoped>\n",
       "    .dataframe tbody tr th:only-of-type {\n",
       "        vertical-align: middle;\n",
       "    }\n",
       "\n",
       "    .dataframe tbody tr th {\n",
       "        vertical-align: top;\n",
       "    }\n",
       "\n",
       "    .dataframe thead th {\n",
       "        text-align: right;\n",
       "    }\n",
       "</style>\n",
       "<table border=\"1\" class=\"dataframe\">\n",
       "  <thead>\n",
       "    <tr style=\"text-align: right;\">\n",
       "      <th></th>\n",
       "      <th>geometry</th>\n",
       "      <th>belongs_to</th>\n",
       "    </tr>\n",
       "  </thead>\n",
       "  <tbody>\n",
       "    <tr>\n",
       "      <th>0</th>\n",
       "      <td>POINT (51.19345 35.75567)</td>\n",
       "      <td>Iran Mall</td>\n",
       "    </tr>\n",
       "    <tr>\n",
       "      <th>1</th>\n",
       "      <td>POINT (51.35123 35.77675)</td>\n",
       "      <td>Opal</td>\n",
       "    </tr>\n",
       "    <tr>\n",
       "      <th>2</th>\n",
       "      <td>POINT (51.33088 35.68904)</td>\n",
       "      <td>Mehr Abad</td>\n",
       "    </tr>\n",
       "    <tr>\n",
       "      <th>3</th>\n",
       "      <td>POINT (51.41695 35.65041)</td>\n",
       "      <td>South Terminal</td>\n",
       "    </tr>\n",
       "    <tr>\n",
       "      <th>4</th>\n",
       "      <td>POINT (51.32251 35.69165)</td>\n",
       "      <td>Mehr Abad</td>\n",
       "    </tr>\n",
       "    <tr>\n",
       "      <th>...</th>\n",
       "      <td>...</td>\n",
       "      <td>...</td>\n",
       "    </tr>\n",
       "    <tr>\n",
       "      <th>2772</th>\n",
       "      <td>POINT (51.32184 35.69231)</td>\n",
       "      <td>Mehr Abad</td>\n",
       "    </tr>\n",
       "    <tr>\n",
       "      <th>2773</th>\n",
       "      <td>POINT (51.31413 35.73798)</td>\n",
       "      <td>Koroush</td>\n",
       "    </tr>\n",
       "    <tr>\n",
       "      <th>2774</th>\n",
       "      <td>POINT (51.32312 35.69128)</td>\n",
       "      <td>Mehr Abad</td>\n",
       "    </tr>\n",
       "    <tr>\n",
       "      <th>2775</th>\n",
       "      <td>POINT (51.32174 35.69170)</td>\n",
       "      <td>Mehr Abad</td>\n",
       "    </tr>\n",
       "    <tr>\n",
       "      <th>2776</th>\n",
       "      <td>POINT (51.32468 35.69333)</td>\n",
       "      <td>Mehr Abad</td>\n",
       "    </tr>\n",
       "  </tbody>\n",
       "</table>\n",
       "<p>2777 rows × 2 columns</p>\n",
       "</div>"
      ],
      "text/plain": [
       "                       geometry      belongs_to\n",
       "0     POINT (51.19345 35.75567)       Iran Mall\n",
       "1     POINT (51.35123 35.77675)            Opal\n",
       "2     POINT (51.33088 35.68904)       Mehr Abad\n",
       "3     POINT (51.41695 35.65041)  South Terminal\n",
       "4     POINT (51.32251 35.69165)       Mehr Abad\n",
       "...                         ...             ...\n",
       "2772  POINT (51.32184 35.69231)       Mehr Abad\n",
       "2773  POINT (51.31413 35.73798)         Koroush\n",
       "2774  POINT (51.32312 35.69128)       Mehr Abad\n",
       "2775  POINT (51.32174 35.69170)       Mehr Abad\n",
       "2776  POINT (51.32468 35.69333)       Mehr Abad\n",
       "\n",
       "[2777 rows x 2 columns]"
      ]
     },
     "execution_count": 12,
     "metadata": {},
     "output_type": "execute_result"
    }
   ],
   "source": [
    "# Finding each point belong to which place based on buffered polygon\n",
    "points_geodf[\"belongs_to\"] = None\n",
    "for idx, row in gdf.iterrows():\n",
    "    # A point must be inside the buffered polygon\n",
    "    within_mask = points_geodf.within(row[\"buffered_polygon\"])\n",
    "    # # But outside the original polygon (Mehra Abad is the exclusion because of bad polygon)\n",
    "    # exclusion_mask = (\n",
    "    #     ~points_geodf.within(row[\"original_polygon\"])\n",
    "    #     if row[\"name\"] != \"Mehr Abad\"\n",
    "    #     else pd.Series([True] * len(points_geodf))\n",
    "    # )\n",
    "    # combined_mask = within_mask & exclusion_mask\n",
    "    points_geodf.loc[\n",
    "        within_mask & points_geodf[\"belongs_to\"].isnull(), \"belongs_to\"\n",
    "    ] = row[\"name\"]\n",
    "points_geodf = (\n",
    "    points_geodf[[\"geometry\", \"belongs_to\"]]\n",
    "    .dropna(subset=[\"belongs_to\"])\n",
    "    .reset_index(drop=True)\n",
    ")\n",
    "points_geodf.to_csv(\"../data/points_geodf.csv\", index=False)\n",
    "points_geodf"
   ]
  },
  {
   "cell_type": "markdown",
   "metadata": {},
   "source": [
    "### Ride Points Visualization\n",
    "<p> Based on buffered polygon </p>"
   ]
  },
  {
   "cell_type": "code",
   "execution_count": 13,
   "metadata": {},
   "outputs": [
    {
     "data": {
      "text/plain": [
       "'\\n# Visualizing the points on map\\nfor idx, point in points_geodf.iterrows():\\n    folium.Marker(\\n        location=[point.geometry.y, point.geometry.x],\\n        popup=f\"{point[\"belongs_to\"]}\",\\n        icon=folium.Icon(color=\"green\", icon=\"info-sign\"),\\n    ).add_to(m)\\n# m.save(\"/home/reza/Desktop/snapp-task/points_inside_buffer.html\")\\nm.save(\"../data/points_inside_buffer.html\")\\n'"
      ]
     },
     "execution_count": 13,
     "metadata": {},
     "output_type": "execute_result"
    }
   ],
   "source": [
    "\"\"\"\n",
    "# Visualizing the points on map\n",
    "for idx, point in points_geodf.iterrows():\n",
    "    folium.Marker(\n",
    "        location=[point.geometry.y, point.geometry.x],\n",
    "        popup=f\"{point[\"belongs_to\"]}\",\n",
    "        icon=folium.Icon(color=\"green\", icon=\"info-sign\"),\n",
    "    ).add_to(m)\n",
    "# m.save(\"/home/reza/Desktop/snapp-task/points_inside_buffer.html\")\n",
    "m.save(\"../data/points_inside_buffer.html\")\n",
    "\"\"\""
   ]
  },
  {
   "cell_type": "markdown",
   "metadata": {},
   "source": [
    "### Density of each place\n",
    "<p> Let's view the density of each place </p>"
   ]
  },
  {
   "cell_type": "code",
   "execution_count": 14,
   "metadata": {},
   "outputs": [
    {
     "data": {
      "application/vnd.plotly.v1+json": {
       "config": {
        "plotlyServerURL": "https://plot.ly"
       },
       "data": [
        {
         "alignmentgroup": "True",
         "hovertemplate": "belongs_to=%{x}<br>count=%{text}<extra></extra>",
         "legendgroup": "",
         "marker": {
          "color": "#636efa",
          "pattern": {
           "shape": ""
          }
         },
         "name": "",
         "offsetgroup": "",
         "orientation": "v",
         "showlegend": false,
         "text": [
          1109,
          448,
          410,
          282,
          168,
          136,
          106,
          85,
          25,
          8
         ],
         "textposition": "auto",
         "type": "bar",
         "x": [
          "Mehr Abad",
          "West Terminal",
          "South Terminal",
          "Koroush",
          "Iran Mall",
          "Opal",
          "Imam Khomeini Hospital",
          "Shariati Hospital",
          "Technical Faculties of Tehran University",
          "Paladium"
         ],
         "xaxis": "x",
         "y": [
          1109,
          448,
          410,
          282,
          168,
          136,
          106,
          85,
          25,
          8
         ],
         "yaxis": "y"
        }
       ],
       "layout": {
        "barmode": "relative",
        "legend": {
         "tracegroupgap": 0
        },
        "template": {
         "data": {
          "bar": [
           {
            "error_x": {
             "color": "#2a3f5f"
            },
            "error_y": {
             "color": "#2a3f5f"
            },
            "marker": {
             "line": {
              "color": "#E5ECF6",
              "width": 0.5
             },
             "pattern": {
              "fillmode": "overlay",
              "size": 10,
              "solidity": 0.2
             }
            },
            "type": "bar"
           }
          ],
          "barpolar": [
           {
            "marker": {
             "line": {
              "color": "#E5ECF6",
              "width": 0.5
             },
             "pattern": {
              "fillmode": "overlay",
              "size": 10,
              "solidity": 0.2
             }
            },
            "type": "barpolar"
           }
          ],
          "carpet": [
           {
            "aaxis": {
             "endlinecolor": "#2a3f5f",
             "gridcolor": "white",
             "linecolor": "white",
             "minorgridcolor": "white",
             "startlinecolor": "#2a3f5f"
            },
            "baxis": {
             "endlinecolor": "#2a3f5f",
             "gridcolor": "white",
             "linecolor": "white",
             "minorgridcolor": "white",
             "startlinecolor": "#2a3f5f"
            },
            "type": "carpet"
           }
          ],
          "choropleth": [
           {
            "colorbar": {
             "outlinewidth": 0,
             "ticks": ""
            },
            "type": "choropleth"
           }
          ],
          "contour": [
           {
            "colorbar": {
             "outlinewidth": 0,
             "ticks": ""
            },
            "colorscale": [
             [
              0,
              "#0d0887"
             ],
             [
              0.1111111111111111,
              "#46039f"
             ],
             [
              0.2222222222222222,
              "#7201a8"
             ],
             [
              0.3333333333333333,
              "#9c179e"
             ],
             [
              0.4444444444444444,
              "#bd3786"
             ],
             [
              0.5555555555555556,
              "#d8576b"
             ],
             [
              0.6666666666666666,
              "#ed7953"
             ],
             [
              0.7777777777777778,
              "#fb9f3a"
             ],
             [
              0.8888888888888888,
              "#fdca26"
             ],
             [
              1,
              "#f0f921"
             ]
            ],
            "type": "contour"
           }
          ],
          "contourcarpet": [
           {
            "colorbar": {
             "outlinewidth": 0,
             "ticks": ""
            },
            "type": "contourcarpet"
           }
          ],
          "heatmap": [
           {
            "colorbar": {
             "outlinewidth": 0,
             "ticks": ""
            },
            "colorscale": [
             [
              0,
              "#0d0887"
             ],
             [
              0.1111111111111111,
              "#46039f"
             ],
             [
              0.2222222222222222,
              "#7201a8"
             ],
             [
              0.3333333333333333,
              "#9c179e"
             ],
             [
              0.4444444444444444,
              "#bd3786"
             ],
             [
              0.5555555555555556,
              "#d8576b"
             ],
             [
              0.6666666666666666,
              "#ed7953"
             ],
             [
              0.7777777777777778,
              "#fb9f3a"
             ],
             [
              0.8888888888888888,
              "#fdca26"
             ],
             [
              1,
              "#f0f921"
             ]
            ],
            "type": "heatmap"
           }
          ],
          "heatmapgl": [
           {
            "colorbar": {
             "outlinewidth": 0,
             "ticks": ""
            },
            "colorscale": [
             [
              0,
              "#0d0887"
             ],
             [
              0.1111111111111111,
              "#46039f"
             ],
             [
              0.2222222222222222,
              "#7201a8"
             ],
             [
              0.3333333333333333,
              "#9c179e"
             ],
             [
              0.4444444444444444,
              "#bd3786"
             ],
             [
              0.5555555555555556,
              "#d8576b"
             ],
             [
              0.6666666666666666,
              "#ed7953"
             ],
             [
              0.7777777777777778,
              "#fb9f3a"
             ],
             [
              0.8888888888888888,
              "#fdca26"
             ],
             [
              1,
              "#f0f921"
             ]
            ],
            "type": "heatmapgl"
           }
          ],
          "histogram": [
           {
            "marker": {
             "pattern": {
              "fillmode": "overlay",
              "size": 10,
              "solidity": 0.2
             }
            },
            "type": "histogram"
           }
          ],
          "histogram2d": [
           {
            "colorbar": {
             "outlinewidth": 0,
             "ticks": ""
            },
            "colorscale": [
             [
              0,
              "#0d0887"
             ],
             [
              0.1111111111111111,
              "#46039f"
             ],
             [
              0.2222222222222222,
              "#7201a8"
             ],
             [
              0.3333333333333333,
              "#9c179e"
             ],
             [
              0.4444444444444444,
              "#bd3786"
             ],
             [
              0.5555555555555556,
              "#d8576b"
             ],
             [
              0.6666666666666666,
              "#ed7953"
             ],
             [
              0.7777777777777778,
              "#fb9f3a"
             ],
             [
              0.8888888888888888,
              "#fdca26"
             ],
             [
              1,
              "#f0f921"
             ]
            ],
            "type": "histogram2d"
           }
          ],
          "histogram2dcontour": [
           {
            "colorbar": {
             "outlinewidth": 0,
             "ticks": ""
            },
            "colorscale": [
             [
              0,
              "#0d0887"
             ],
             [
              0.1111111111111111,
              "#46039f"
             ],
             [
              0.2222222222222222,
              "#7201a8"
             ],
             [
              0.3333333333333333,
              "#9c179e"
             ],
             [
              0.4444444444444444,
              "#bd3786"
             ],
             [
              0.5555555555555556,
              "#d8576b"
             ],
             [
              0.6666666666666666,
              "#ed7953"
             ],
             [
              0.7777777777777778,
              "#fb9f3a"
             ],
             [
              0.8888888888888888,
              "#fdca26"
             ],
             [
              1,
              "#f0f921"
             ]
            ],
            "type": "histogram2dcontour"
           }
          ],
          "mesh3d": [
           {
            "colorbar": {
             "outlinewidth": 0,
             "ticks": ""
            },
            "type": "mesh3d"
           }
          ],
          "parcoords": [
           {
            "line": {
             "colorbar": {
              "outlinewidth": 0,
              "ticks": ""
             }
            },
            "type": "parcoords"
           }
          ],
          "pie": [
           {
            "automargin": true,
            "type": "pie"
           }
          ],
          "scatter": [
           {
            "fillpattern": {
             "fillmode": "overlay",
             "size": 10,
             "solidity": 0.2
            },
            "type": "scatter"
           }
          ],
          "scatter3d": [
           {
            "line": {
             "colorbar": {
              "outlinewidth": 0,
              "ticks": ""
             }
            },
            "marker": {
             "colorbar": {
              "outlinewidth": 0,
              "ticks": ""
             }
            },
            "type": "scatter3d"
           }
          ],
          "scattercarpet": [
           {
            "marker": {
             "colorbar": {
              "outlinewidth": 0,
              "ticks": ""
             }
            },
            "type": "scattercarpet"
           }
          ],
          "scattergeo": [
           {
            "marker": {
             "colorbar": {
              "outlinewidth": 0,
              "ticks": ""
             }
            },
            "type": "scattergeo"
           }
          ],
          "scattergl": [
           {
            "marker": {
             "colorbar": {
              "outlinewidth": 0,
              "ticks": ""
             }
            },
            "type": "scattergl"
           }
          ],
          "scattermapbox": [
           {
            "marker": {
             "colorbar": {
              "outlinewidth": 0,
              "ticks": ""
             }
            },
            "type": "scattermapbox"
           }
          ],
          "scatterpolar": [
           {
            "marker": {
             "colorbar": {
              "outlinewidth": 0,
              "ticks": ""
             }
            },
            "type": "scatterpolar"
           }
          ],
          "scatterpolargl": [
           {
            "marker": {
             "colorbar": {
              "outlinewidth": 0,
              "ticks": ""
             }
            },
            "type": "scatterpolargl"
           }
          ],
          "scatterternary": [
           {
            "marker": {
             "colorbar": {
              "outlinewidth": 0,
              "ticks": ""
             }
            },
            "type": "scatterternary"
           }
          ],
          "surface": [
           {
            "colorbar": {
             "outlinewidth": 0,
             "ticks": ""
            },
            "colorscale": [
             [
              0,
              "#0d0887"
             ],
             [
              0.1111111111111111,
              "#46039f"
             ],
             [
              0.2222222222222222,
              "#7201a8"
             ],
             [
              0.3333333333333333,
              "#9c179e"
             ],
             [
              0.4444444444444444,
              "#bd3786"
             ],
             [
              0.5555555555555556,
              "#d8576b"
             ],
             [
              0.6666666666666666,
              "#ed7953"
             ],
             [
              0.7777777777777778,
              "#fb9f3a"
             ],
             [
              0.8888888888888888,
              "#fdca26"
             ],
             [
              1,
              "#f0f921"
             ]
            ],
            "type": "surface"
           }
          ],
          "table": [
           {
            "cells": {
             "fill": {
              "color": "#EBF0F8"
             },
             "line": {
              "color": "white"
             }
            },
            "header": {
             "fill": {
              "color": "#C8D4E3"
             },
             "line": {
              "color": "white"
             }
            },
            "type": "table"
           }
          ]
         },
         "layout": {
          "annotationdefaults": {
           "arrowcolor": "#2a3f5f",
           "arrowhead": 0,
           "arrowwidth": 1
          },
          "autotypenumbers": "strict",
          "coloraxis": {
           "colorbar": {
            "outlinewidth": 0,
            "ticks": ""
           }
          },
          "colorscale": {
           "diverging": [
            [
             0,
             "#8e0152"
            ],
            [
             0.1,
             "#c51b7d"
            ],
            [
             0.2,
             "#de77ae"
            ],
            [
             0.3,
             "#f1b6da"
            ],
            [
             0.4,
             "#fde0ef"
            ],
            [
             0.5,
             "#f7f7f7"
            ],
            [
             0.6,
             "#e6f5d0"
            ],
            [
             0.7,
             "#b8e186"
            ],
            [
             0.8,
             "#7fbc41"
            ],
            [
             0.9,
             "#4d9221"
            ],
            [
             1,
             "#276419"
            ]
           ],
           "sequential": [
            [
             0,
             "#0d0887"
            ],
            [
             0.1111111111111111,
             "#46039f"
            ],
            [
             0.2222222222222222,
             "#7201a8"
            ],
            [
             0.3333333333333333,
             "#9c179e"
            ],
            [
             0.4444444444444444,
             "#bd3786"
            ],
            [
             0.5555555555555556,
             "#d8576b"
            ],
            [
             0.6666666666666666,
             "#ed7953"
            ],
            [
             0.7777777777777778,
             "#fb9f3a"
            ],
            [
             0.8888888888888888,
             "#fdca26"
            ],
            [
             1,
             "#f0f921"
            ]
           ],
           "sequentialminus": [
            [
             0,
             "#0d0887"
            ],
            [
             0.1111111111111111,
             "#46039f"
            ],
            [
             0.2222222222222222,
             "#7201a8"
            ],
            [
             0.3333333333333333,
             "#9c179e"
            ],
            [
             0.4444444444444444,
             "#bd3786"
            ],
            [
             0.5555555555555556,
             "#d8576b"
            ],
            [
             0.6666666666666666,
             "#ed7953"
            ],
            [
             0.7777777777777778,
             "#fb9f3a"
            ],
            [
             0.8888888888888888,
             "#fdca26"
            ],
            [
             1,
             "#f0f921"
            ]
           ]
          },
          "colorway": [
           "#636efa",
           "#EF553B",
           "#00cc96",
           "#ab63fa",
           "#FFA15A",
           "#19d3f3",
           "#FF6692",
           "#B6E880",
           "#FF97FF",
           "#FECB52"
          ],
          "font": {
           "color": "#2a3f5f"
          },
          "geo": {
           "bgcolor": "white",
           "lakecolor": "white",
           "landcolor": "#E5ECF6",
           "showlakes": true,
           "showland": true,
           "subunitcolor": "white"
          },
          "hoverlabel": {
           "align": "left"
          },
          "hovermode": "closest",
          "mapbox": {
           "style": "light"
          },
          "paper_bgcolor": "white",
          "plot_bgcolor": "#E5ECF6",
          "polar": {
           "angularaxis": {
            "gridcolor": "white",
            "linecolor": "white",
            "ticks": ""
           },
           "bgcolor": "#E5ECF6",
           "radialaxis": {
            "gridcolor": "white",
            "linecolor": "white",
            "ticks": ""
           }
          },
          "scene": {
           "xaxis": {
            "backgroundcolor": "#E5ECF6",
            "gridcolor": "white",
            "gridwidth": 2,
            "linecolor": "white",
            "showbackground": true,
            "ticks": "",
            "zerolinecolor": "white"
           },
           "yaxis": {
            "backgroundcolor": "#E5ECF6",
            "gridcolor": "white",
            "gridwidth": 2,
            "linecolor": "white",
            "showbackground": true,
            "ticks": "",
            "zerolinecolor": "white"
           },
           "zaxis": {
            "backgroundcolor": "#E5ECF6",
            "gridcolor": "white",
            "gridwidth": 2,
            "linecolor": "white",
            "showbackground": true,
            "ticks": "",
            "zerolinecolor": "white"
           }
          },
          "shapedefaults": {
           "line": {
            "color": "#2a3f5f"
           }
          },
          "ternary": {
           "aaxis": {
            "gridcolor": "white",
            "linecolor": "white",
            "ticks": ""
           },
           "baxis": {
            "gridcolor": "white",
            "linecolor": "white",
            "ticks": ""
           },
           "bgcolor": "#E5ECF6",
           "caxis": {
            "gridcolor": "white",
            "linecolor": "white",
            "ticks": ""
           }
          },
          "title": {
           "x": 0.05
          },
          "xaxis": {
           "automargin": true,
           "gridcolor": "white",
           "linecolor": "white",
           "ticks": "",
           "title": {
            "standoff": 15
           },
           "zerolinecolor": "white",
           "zerolinewidth": 2
          },
          "yaxis": {
           "automargin": true,
           "gridcolor": "white",
           "linecolor": "white",
           "ticks": "",
           "title": {
            "standoff": 15
           },
           "zerolinecolor": "white",
           "zerolinewidth": 2
          }
         }
        },
        "title": {
         "text": "Count of Points by Location"
        },
        "xaxis": {
         "anchor": "y",
         "categoryorder": "total descending",
         "domain": [
          0,
          1
         ],
         "title": {
          "text": "Location"
         }
        },
        "yaxis": {
         "anchor": "x",
         "domain": [
          0,
          1
         ],
         "title": {
          "text": "Count"
         }
        }
       }
      }
     },
     "metadata": {},
     "output_type": "display_data"
    }
   ],
   "source": [
    "# Count the occurrences of each place\n",
    "counts = points_geodf[\"belongs_to\"].value_counts().reset_index()\n",
    "counts.columns = [\"belongs_to\", \"count\"]\n",
    "\n",
    "# Create a bar chart\n",
    "fig = px.bar(\n",
    "    counts,\n",
    "    x=\"belongs_to\",\n",
    "    y=\"count\",\n",
    "    title=\"Count of Points by Location\",\n",
    "    text=\"count\",\n",
    "    color_continuous_scale=\"Viridis\",\n",
    ")\n",
    "fig.update_layout(\n",
    "    xaxis_title=\"Location\",\n",
    "    yaxis_title=\"Count\",\n",
    "    xaxis={\"categoryorder\": \"total descending\"},\n",
    ")\n",
    "fig.show()"
   ]
  },
  {
   "cell_type": "markdown",
   "metadata": {},
   "source": [
    "## ML\n",
    "\n",
    "<p> This is where the magic happens! </p>\n",
    "<p>\n",
    "So let's talk about clustering algorithm!\n",
    "\n",
    "At first when clustering term is heard the first algorithm that comes to mind is K-means.\n",
    "But let's first think about the nature of our data.\n",
    "It is a density based data, meaning if there exists density of points in a place then probably there is an entrance there.\n",
    "Also the density between two entrances may vary, meaning one entrance maybe more crowded than the other one. For example the Tehran Pardis entrance near Kargar St. is more crowded than the opposite entrance.\n",
    "\n",
    "\n",
    "Also we don't know the exact number of entrances. It varies depending on the place.\n",
    "\n",
    "\n",
    "One other thing is that our clusters my not be spherical necessary, the points may span over streets near the entrances.\n",
    "\n",
    "\n",
    "With these in mind, let's compare some algorithms.\n",
    "\n",
    "<ul>\n",
    "    <li><a href=\"https://en.wikipedia.org/wiki/K-means_clustering\">K-Means</a>\n",
    "        <ul>\n",
    "            <li>Use Cases\n",
    "                <ul>\n",
    "                    <li>When the number of clusters k is known a priori.</li>\n",
    "                    <li>Suitable for clusters that are roughly <u>spherical and of similar size</u>.</li>\n",
    "                </ul>\n",
    "            </li>\n",
    "            <li>Limitations\n",
    "                <ul>\n",
    "                    <li>The need to <u>specify k in advance</u>.</li>\n",
    "                    <li>Sensitivity to initial centroid placement.</li>\n",
    "                    <li>Not suitable for identifying clusters with non-spherical shapes or varying densities.</li>\n",
    "                </ul>\n",
    "            </li>\n",
    "        </ul>\n",
    "    </li>\n",
    "    <li><a href=\"https://en.wikipedia.org/wiki/DBSCAN\">DBSCAN</a>\n",
    "        <ul>\n",
    "            <li>Use Cases\n",
    "                <ul>\n",
    "                    <li>Suitable for data containing <u>clusters of similar density</u>.</li>\n",
    "                    <li>Works well with large datasets.</li>\n",
    "                    <li>Good for applications where the cluster structure is not known in advance and can vary in shape.</li>\n",
    "                </ul>\n",
    "            </li>\n",
    "            <li>Limitations\n",
    "                <ul>\n",
    "                    <li><u>Sensitivity to the eps and minPts parameters,</u> which can be hard to tune.</li>\n",
    "                    <li>Does not perform well with data of <u>varying densities</u> or when there are large differences in cluster sizes.</li>\n",
    "                </ul>\n",
    "            </li>\n",
    "        </ul>\n",
    "    </li>\n",
    "    <li><a href=\"https://hdbscan.readthedocs.io/en/latest/how_hdbscan_works.html\">HDBSCAN</a>\n",
    "        <ul>\n",
    "            <li>Use Cases\n",
    "                <ul>\n",
    "                    <li>When the <u>number of clusters is unknown</u> or there is variance in the density of clusters.</li>\n",
    "                    <li>Effective at handling noise and outliers.</li>\n",
    "                    <li>Capable of identifying clusters of arbitrary shapes.</li>\n",
    "                </ul>\n",
    "            </li>\n",
    "            <li>Limitations\n",
    "                <ul>\n",
    "                    <li>Higher computational complexity, especially with very large datasets.</li>\n",
    "                    <li><u>Performance can be sensitive to the parameters</u> used for defining density (min_samples, min_cluster_size).</li>\n",
    "                    <li>Can be harder to interpret and tune compared to more straightforward algorithms like k-means.</li>\n",
    "                </ul>\n",
    "            </li>\n",
    "        </ul>\n",
    "    </li>\n",
    "    <li><a href=\"https://en.wikipedia.org/wiki/Spectral_clustering\">Spectral Clustering</a>\n",
    "        <ul>\n",
    "            <li>Use Cases\n",
    "                <ul>\n",
    "                    <li>Works well for <u>non-convex clusters</u> and where the cluster structure is connected but not necessarily compact or separated by linear boundaries.</li>\n",
    "                    <li>Effective in scenarios where the data <u>can be represented as a graph</u>,, e.g: Social Network.</li>\n",
    "                </ul>\n",
    "            </li>\n",
    "            <li>Limitations\n",
    "                <ul>\n",
    "                    <li>Computationally intensive</li>\n",
    "                    <li><u>Choosing the number of clusters ahead of time</u> is required, similar to k-means.</li>\n",
    "                    <li>Performance heavily depends on the quality of the similarity graph.</li>\n",
    "                </ul>\n",
    "            </li>\n",
    "        </ul>\n",
    "    </li>\n",
    "</ul>\n",
    "\n",
    "By viewing the algorithms and their pros and cons <code>HDBSCAN</code> seems to be the optimal choice for our use case.\n",
    "\n",
    "\n",
    "<b>Reasons</b>\n",
    "<ul>\n",
    "    <li>It does not assume cluster are spherical.</li>\n",
    "    <li>It does not need the number of clusters to be defined beforehand.</li>\n",
    "    <li>Handles outliers.</li>\n",
    "    <li>Does not need domain knowledge for clustering (Something neeeded in <code>DBSCAN</code> to tune paramters for better results).</li>\n",
    "</ul>\n",
    "\n",
    "<p>So with all of that reasoning we have our algorithm, let's delve into the code</p>\n",
    "</p>\n"
   ]
  },
  {
   "cell_type": "code",
   "execution_count": 15,
   "metadata": {},
   "outputs": [
    {
     "name": "stderr",
     "output_type": "stream",
     "text": [
      "/data02/python-venvs/snapp-task/lib/python3.12/site-packages/geopandas/geodataframe.py:1528: SettingWithCopyWarning:\n",
      "\n",
      "\n",
      "A value is trying to be set on a copy of a slice from a DataFrame.\n",
      "Try using .loc[row_indexer,col_indexer] = value instead\n",
      "\n",
      "See the caveats in the documentation: https://pandas.pydata.org/pandas-docs/stable/user_guide/indexing.html#returning-a-view-versus-a-copy\n",
      "\n",
      "/data02/python-venvs/snapp-task/lib/python3.12/site-packages/geopandas/geodataframe.py:1528: SettingWithCopyWarning:\n",
      "\n",
      "\n",
      "A value is trying to be set on a copy of a slice from a DataFrame.\n",
      "Try using .loc[row_indexer,col_indexer] = value instead\n",
      "\n",
      "See the caveats in the documentation: https://pandas.pydata.org/pandas-docs/stable/user_guide/indexing.html#returning-a-view-versus-a-copy\n",
      "\n",
      "/data02/python-venvs/snapp-task/lib/python3.12/site-packages/geopandas/geodataframe.py:1528: SettingWithCopyWarning:\n",
      "\n",
      "\n",
      "A value is trying to be set on a copy of a slice from a DataFrame.\n",
      "Try using .loc[row_indexer,col_indexer] = value instead\n",
      "\n",
      "See the caveats in the documentation: https://pandas.pydata.org/pandas-docs/stable/user_guide/indexing.html#returning-a-view-versus-a-copy\n",
      "\n",
      "/data02/python-venvs/snapp-task/lib/python3.12/site-packages/geopandas/geodataframe.py:1528: SettingWithCopyWarning:\n",
      "\n",
      "\n",
      "A value is trying to be set on a copy of a slice from a DataFrame.\n",
      "Try using .loc[row_indexer,col_indexer] = value instead\n",
      "\n",
      "See the caveats in the documentation: https://pandas.pydata.org/pandas-docs/stable/user_guide/indexing.html#returning-a-view-versus-a-copy\n",
      "\n",
      "/data02/python-venvs/snapp-task/lib/python3.12/site-packages/geopandas/geodataframe.py:1528: SettingWithCopyWarning:\n",
      "\n",
      "\n",
      "A value is trying to be set on a copy of a slice from a DataFrame.\n",
      "Try using .loc[row_indexer,col_indexer] = value instead\n",
      "\n",
      "See the caveats in the documentation: https://pandas.pydata.org/pandas-docs/stable/user_guide/indexing.html#returning-a-view-versus-a-copy\n",
      "\n",
      "/data02/python-venvs/snapp-task/lib/python3.12/site-packages/geopandas/geodataframe.py:1528: SettingWithCopyWarning:\n",
      "\n",
      "\n",
      "A value is trying to be set on a copy of a slice from a DataFrame.\n",
      "Try using .loc[row_indexer,col_indexer] = value instead\n",
      "\n",
      "See the caveats in the documentation: https://pandas.pydata.org/pandas-docs/stable/user_guide/indexing.html#returning-a-view-versus-a-copy\n",
      "\n",
      "/data02/python-venvs/snapp-task/lib/python3.12/site-packages/geopandas/geodataframe.py:1528: SettingWithCopyWarning:\n",
      "\n",
      "\n",
      "A value is trying to be set on a copy of a slice from a DataFrame.\n",
      "Try using .loc[row_indexer,col_indexer] = value instead\n",
      "\n",
      "See the caveats in the documentation: https://pandas.pydata.org/pandas-docs/stable/user_guide/indexing.html#returning-a-view-versus-a-copy\n",
      "\n",
      "/data02/python-venvs/snapp-task/lib/python3.12/site-packages/geopandas/geodataframe.py:1528: SettingWithCopyWarning:\n",
      "\n",
      "\n",
      "A value is trying to be set on a copy of a slice from a DataFrame.\n",
      "Try using .loc[row_indexer,col_indexer] = value instead\n",
      "\n",
      "See the caveats in the documentation: https://pandas.pydata.org/pandas-docs/stable/user_guide/indexing.html#returning-a-view-versus-a-copy\n",
      "\n",
      "/data02/python-venvs/snapp-task/lib/python3.12/site-packages/geopandas/geodataframe.py:1528: SettingWithCopyWarning:\n",
      "\n",
      "\n",
      "A value is trying to be set on a copy of a slice from a DataFrame.\n",
      "Try using .loc[row_indexer,col_indexer] = value instead\n",
      "\n",
      "See the caveats in the documentation: https://pandas.pydata.org/pandas-docs/stable/user_guide/indexing.html#returning-a-view-versus-a-copy\n",
      "\n",
      "/data02/python-venvs/snapp-task/lib/python3.12/site-packages/geopandas/geodataframe.py:1528: SettingWithCopyWarning:\n",
      "\n",
      "\n",
      "A value is trying to be set on a copy of a slice from a DataFrame.\n",
      "Try using .loc[row_indexer,col_indexer] = value instead\n",
      "\n",
      "See the caveats in the documentation: https://pandas.pydata.org/pandas-docs/stable/user_guide/indexing.html#returning-a-view-versus-a-copy\n",
      "\n",
      "/data02/python-venvs/snapp-task/lib/python3.12/site-packages/geopandas/geodataframe.py:1528: SettingWithCopyWarning:\n",
      "\n",
      "\n",
      "A value is trying to be set on a copy of a slice from a DataFrame.\n",
      "Try using .loc[row_indexer,col_indexer] = value instead\n",
      "\n",
      "See the caveats in the documentation: https://pandas.pydata.org/pandas-docs/stable/user_guide/indexing.html#returning-a-view-versus-a-copy\n",
      "\n",
      "/data02/python-venvs/snapp-task/lib/python3.12/site-packages/geopandas/geodataframe.py:1528: SettingWithCopyWarning:\n",
      "\n",
      "\n",
      "A value is trying to be set on a copy of a slice from a DataFrame.\n",
      "Try using .loc[row_indexer,col_indexer] = value instead\n",
      "\n",
      "See the caveats in the documentation: https://pandas.pydata.org/pandas-docs/stable/user_guide/indexing.html#returning-a-view-versus-a-copy\n",
      "\n",
      "/data02/python-venvs/snapp-task/lib/python3.12/site-packages/geopandas/geodataframe.py:1528: SettingWithCopyWarning:\n",
      "\n",
      "\n",
      "A value is trying to be set on a copy of a slice from a DataFrame.\n",
      "Try using .loc[row_indexer,col_indexer] = value instead\n",
      "\n",
      "See the caveats in the documentation: https://pandas.pydata.org/pandas-docs/stable/user_guide/indexing.html#returning-a-view-versus-a-copy\n",
      "\n",
      "/data02/python-venvs/snapp-task/lib/python3.12/site-packages/geopandas/geodataframe.py:1528: SettingWithCopyWarning:\n",
      "\n",
      "\n",
      "A value is trying to be set on a copy of a slice from a DataFrame.\n",
      "Try using .loc[row_indexer,col_indexer] = value instead\n",
      "\n",
      "See the caveats in the documentation: https://pandas.pydata.org/pandas-docs/stable/user_guide/indexing.html#returning-a-view-versus-a-copy\n",
      "\n",
      "/data02/python-venvs/snapp-task/lib/python3.12/site-packages/geopandas/geodataframe.py:1528: SettingWithCopyWarning:\n",
      "\n",
      "\n",
      "A value is trying to be set on a copy of a slice from a DataFrame.\n",
      "Try using .loc[row_indexer,col_indexer] = value instead\n",
      "\n",
      "See the caveats in the documentation: https://pandas.pydata.org/pandas-docs/stable/user_guide/indexing.html#returning-a-view-versus-a-copy\n",
      "\n",
      "/data02/python-venvs/snapp-task/lib/python3.12/site-packages/geopandas/geodataframe.py:1528: SettingWithCopyWarning:\n",
      "\n",
      "\n",
      "A value is trying to be set on a copy of a slice from a DataFrame.\n",
      "Try using .loc[row_indexer,col_indexer] = value instead\n",
      "\n",
      "See the caveats in the documentation: https://pandas.pydata.org/pandas-docs/stable/user_guide/indexing.html#returning-a-view-versus-a-copy\n",
      "\n",
      "/data02/python-venvs/snapp-task/lib/python3.12/site-packages/geopandas/geodataframe.py:1528: SettingWithCopyWarning:\n",
      "\n",
      "\n",
      "A value is trying to be set on a copy of a slice from a DataFrame.\n",
      "Try using .loc[row_indexer,col_indexer] = value instead\n",
      "\n",
      "See the caveats in the documentation: https://pandas.pydata.org/pandas-docs/stable/user_guide/indexing.html#returning-a-view-versus-a-copy\n",
      "\n",
      "/data02/python-venvs/snapp-task/lib/python3.12/site-packages/geopandas/geodataframe.py:1528: SettingWithCopyWarning:\n",
      "\n",
      "\n",
      "A value is trying to be set on a copy of a slice from a DataFrame.\n",
      "Try using .loc[row_indexer,col_indexer] = value instead\n",
      "\n",
      "See the caveats in the documentation: https://pandas.pydata.org/pandas-docs/stable/user_guide/indexing.html#returning-a-view-versus-a-copy\n",
      "\n",
      "/data02/python-venvs/snapp-task/lib/python3.12/site-packages/geopandas/geodataframe.py:1528: SettingWithCopyWarning:\n",
      "\n",
      "\n",
      "A value is trying to be set on a copy of a slice from a DataFrame.\n",
      "Try using .loc[row_indexer,col_indexer] = value instead\n",
      "\n",
      "See the caveats in the documentation: https://pandas.pydata.org/pandas-docs/stable/user_guide/indexing.html#returning-a-view-versus-a-copy\n",
      "\n",
      "/data02/python-venvs/snapp-task/lib/python3.12/site-packages/geopandas/geodataframe.py:1528: SettingWithCopyWarning:\n",
      "\n",
      "\n",
      "A value is trying to be set on a copy of a slice from a DataFrame.\n",
      "Try using .loc[row_indexer,col_indexer] = value instead\n",
      "\n",
      "See the caveats in the documentation: https://pandas.pydata.org/pandas-docs/stable/user_guide/indexing.html#returning-a-view-versus-a-copy\n",
      "\n"
     ]
    }
   ],
   "source": [
    "\"\"\"\n",
    "What is happening in this cell?\n",
    "┌───────────────┐      ┌─────────┐      ┌──────────────┐     ┌────────────────────┐\n",
    "│               │      │         │      │              │     │                    │\n",
    "│ Process Data  ├──────► Cluster ├──────►Find Centroids├─────►  Visualize On Map  │\n",
    "│               │      │         │      │              │     │                    │\n",
    "└───────────────┘      └─────────┘      └──────────────┘     └────────────────────┘\n",
    "\"\"\"\n",
    "\n",
    "places = points_geodf[\"belongs_to\"].unique().tolist()\n",
    "place_entrances = {}\n",
    "# We are going to perform clustering for each region\n",
    "for place in places:\n",
    "    # ---------------------------------- Process Data ----------------------------------\n",
    "    place_gdf = points_geodf[points_geodf[\"belongs_to\"] == place]  # Filtering points\n",
    "\n",
    "    # Extracting longitude and latitude\n",
    "    place_gdf[\"long\"] = [p.centroid.x for p in place_gdf[\"geometry\"].to_list()]\n",
    "    place_gdf[\"lat\"] = [p.centroid.y for p in place_gdf[\"geometry\"].to_list()]\n",
    "    place_gdf = place_gdf[[\"long\", \"lat\"]].reset_index(drop=True)\n",
    "\n",
    "    # Convert to numpy for usage in clustering\n",
    "    coords = place_gdf[[\"long\", \"lat\"]].values\n",
    "\n",
    "    # ---------------------------------- Clustering ----------------------------------\n",
    "    clusterer = hdbscan.HDBSCAN(\n",
    "        min_cluster_size=int(math.sqrt(len(coords))), metric=\"euclidean\"\n",
    "    )  # min_cluster_size is a heuristic calculated based on trial and error.\n",
    "    cluster_labels = clusterer.fit_predict(coords)\n",
    "\n",
    "    # Assigning cluster labels to the DataFrame\n",
    "    place_gdf[\"cluster\"] = cluster_labels\n",
    "\n",
    "    # ---------------------------------- Finding centroids ----------------------------------\n",
    "    centroids = []\n",
    "    for label in set(cluster_labels):\n",
    "        members = place_gdf[place_gdf[\"cluster\"] == label][[\"long\", \"lat\"]]\n",
    "        centroid = members.mean(axis=0)\n",
    "        centroids.append((centroid[\"long\"], centroid[\"lat\"], label))\n",
    "\n",
    "    # Convert centroids to a DataFrame\n",
    "    centroids_df = pd.DataFrame(centroids, columns=[\"Longitude\", \"Latitude\", \"label\"])\n",
    "\n",
    "    entrances = []\n",
    "    # ---------------------------------- Visualization on map ----------------------------------\n",
    "    for idx, point in centroids_df.iterrows():\n",
    "        # If there is only one cluster (HDBSCAN marks all as outerliers i.e: -1) we want that entrance too,\n",
    "        # But if there are more than one cluster we don't want the centroid of outliers.\n",
    "        if (point[\"label\"] == -1 and len(centroids_df) == 1) or (\n",
    "            len(centroids_df) >= 2 and point[\"label\"] != -1\n",
    "        ):\n",
    "            entrances.append((point[\"Latitude\"], point[\"Longitude\"]))\n",
    "            folium.Marker(\n",
    "                location=[point[\"Latitude\"], point[\"Longitude\"]],\n",
    "                popup=f\"Entrance\",\n",
    "                icon=folium.Icon(color=\"red\", icon=\"star\"),\n",
    "            ).add_to(m)\n",
    "    place_entrances[place] = entrances\n",
    "# m.save(\"/home/reza/Desktop/snapp-task/test_center.html\")\n",
    "m.save(\"./entrances-final.html\")"
   ]
  },
  {
   "cell_type": "markdown",
   "metadata": {},
   "source": [
    "<p>\n",
    "And Voilà with that we have our entrances!\n",
    "There are some errors of course for example the polygon for <u>Mehr Abad</u> was defined inaccurately and so we have some extra entrances, which is due to the filtering part.\n",
    "</p>"
   ]
  },
  {
   "cell_type": "code",
   "execution_count": 18,
   "metadata": {},
   "outputs": [
    {
     "data": {
      "text/html": [
       "<div>\n",
       "<style scoped>\n",
       "    .dataframe tbody tr th:only-of-type {\n",
       "        vertical-align: middle;\n",
       "    }\n",
       "\n",
       "    .dataframe tbody tr th {\n",
       "        vertical-align: top;\n",
       "    }\n",
       "\n",
       "    .dataframe thead th {\n",
       "        text-align: right;\n",
       "    }\n",
       "</style>\n",
       "<table border=\"1\" class=\"dataframe\">\n",
       "  <thead>\n",
       "    <tr style=\"text-align: right;\">\n",
       "      <th></th>\n",
       "      <th>name</th>\n",
       "      <th>original_polygon</th>\n",
       "      <th>buffered_polygon</th>\n",
       "      <th>entrances</th>\n",
       "    </tr>\n",
       "  </thead>\n",
       "  <tbody>\n",
       "    <tr>\n",
       "      <th>0</th>\n",
       "      <td>Opal</td>\n",
       "      <td>POLYGON ((51.35069 35.77713, 51.35075 35.77685...</td>\n",
       "      <td>POLYGON ((51.35067872746119 35.77717418172322,...</td>\n",
       "      <td>[(35.776886962180946, 51.35172280599907), (35....</td>\n",
       "    </tr>\n",
       "    <tr>\n",
       "      <th>1</th>\n",
       "      <td>Koroush</td>\n",
       "      <td>POLYGON ((51.31350 35.73830, 51.31369 35.73827...</td>\n",
       "      <td>POLYGON ((51.31317420547965 35.73834576203107,...</td>\n",
       "      <td>[(35.739664579692636, 51.31443144145764), (35....</td>\n",
       "    </tr>\n",
       "    <tr>\n",
       "      <th>2</th>\n",
       "      <td>Iran Mall</td>\n",
       "      <td>POLYGON ((51.18893 35.75469, 51.18955 35.75195...</td>\n",
       "      <td>POLYGON ((51.188825132572084 35.75512866221741...</td>\n",
       "      <td>[(35.75570514385517, 51.19295988816483), (35.7...</td>\n",
       "    </tr>\n",
       "    <tr>\n",
       "      <th>3</th>\n",
       "      <td>Paladium</td>\n",
       "      <td>POLYGON ((51.41324 35.79645, 51.41335 35.79616...</td>\n",
       "      <td>POLYGON ((51.41316458343045 35.796513166194565...</td>\n",
       "      <td>[(35.79658985137938, 51.41338109970094)]</td>\n",
       "    </tr>\n",
       "    <tr>\n",
       "      <th>4</th>\n",
       "      <td>Mehr Abad</td>\n",
       "      <td>POLYGON ((51.26210 35.68252, 51.26216 35.68238...</td>\n",
       "      <td>POLYGON ((51.262671789664985 35.68255298474467...</td>\n",
       "      <td>[(35.68895283867331, 51.33064978262957), (35.6...</td>\n",
       "    </tr>\n",
       "    <tr>\n",
       "      <th>5</th>\n",
       "      <td>West Terminal</td>\n",
       "      <td>POLYGON ((51.33123 35.70714, 51.33157 35.70185...</td>\n",
       "      <td>POLYGON ((51.33085766113199 35.70747283366887,...</td>\n",
       "      <td>[(35.701796454352305, 51.33142120773727), (35....</td>\n",
       "    </tr>\n",
       "    <tr>\n",
       "      <th>6</th>\n",
       "      <td>Imam Khomeini Hospital</td>\n",
       "      <td>POLYGON ((51.37803 35.70742, 51.37980 35.70737...</td>\n",
       "      <td>POLYGON ((51.377922560887576 35.70741795313682...</td>\n",
       "      <td>[(35.70791048322404, 51.38310372488839), (35.7...</td>\n",
       "    </tr>\n",
       "    <tr>\n",
       "      <th>7</th>\n",
       "      <td>Shariati Hospital</td>\n",
       "      <td>POLYGON ((51.38520 35.71957, 51.38697 35.71986...</td>\n",
       "      <td>POLYGON ((51.38509296800884 35.7195772130028, ...</td>\n",
       "      <td>[(35.722119418057545, 51.38687942967272), (35....</td>\n",
       "    </tr>\n",
       "    <tr>\n",
       "      <th>8</th>\n",
       "      <td>Technical Faculties of Tehran University</td>\n",
       "      <td>POLYGON ((51.38450 35.72639, 51.38453 35.72506...</td>\n",
       "      <td>POLYGON ((51.38448632080887 35.72647678402527,...</td>\n",
       "      <td>[(35.72532963752746, 51.38824319839477), (35.7...</td>\n",
       "    </tr>\n",
       "    <tr>\n",
       "      <th>9</th>\n",
       "      <td>South Terminal</td>\n",
       "      <td>POLYGON ((51.41682 35.65188, 51.41745 35.64760...</td>\n",
       "      <td>POLYGON ((51.416893643085324 35.65204832742704...</td>\n",
       "      <td>[(35.64745114234185, 51.418958208637854), (35....</td>\n",
       "    </tr>\n",
       "  </tbody>\n",
       "</table>\n",
       "</div>"
      ],
      "text/plain": [
       "                                       name  \\\n",
       "0                                      Opal   \n",
       "1                                   Koroush   \n",
       "2                                 Iran Mall   \n",
       "3                                  Paladium   \n",
       "4                                 Mehr Abad   \n",
       "5                             West Terminal   \n",
       "6                    Imam Khomeini Hospital   \n",
       "7                         Shariati Hospital   \n",
       "8  Technical Faculties of Tehran University   \n",
       "9                            South Terminal   \n",
       "\n",
       "                                    original_polygon  \\\n",
       "0  POLYGON ((51.35069 35.77713, 51.35075 35.77685...   \n",
       "1  POLYGON ((51.31350 35.73830, 51.31369 35.73827...   \n",
       "2  POLYGON ((51.18893 35.75469, 51.18955 35.75195...   \n",
       "3  POLYGON ((51.41324 35.79645, 51.41335 35.79616...   \n",
       "4  POLYGON ((51.26210 35.68252, 51.26216 35.68238...   \n",
       "5  POLYGON ((51.33123 35.70714, 51.33157 35.70185...   \n",
       "6  POLYGON ((51.37803 35.70742, 51.37980 35.70737...   \n",
       "7  POLYGON ((51.38520 35.71957, 51.38697 35.71986...   \n",
       "8  POLYGON ((51.38450 35.72639, 51.38453 35.72506...   \n",
       "9  POLYGON ((51.41682 35.65188, 51.41745 35.64760...   \n",
       "\n",
       "                                    buffered_polygon  \\\n",
       "0  POLYGON ((51.35067872746119 35.77717418172322,...   \n",
       "1  POLYGON ((51.31317420547965 35.73834576203107,...   \n",
       "2  POLYGON ((51.188825132572084 35.75512866221741...   \n",
       "3  POLYGON ((51.41316458343045 35.796513166194565...   \n",
       "4  POLYGON ((51.262671789664985 35.68255298474467...   \n",
       "5  POLYGON ((51.33085766113199 35.70747283366887,...   \n",
       "6  POLYGON ((51.377922560887576 35.70741795313682...   \n",
       "7  POLYGON ((51.38509296800884 35.7195772130028, ...   \n",
       "8  POLYGON ((51.38448632080887 35.72647678402527,...   \n",
       "9  POLYGON ((51.416893643085324 35.65204832742704...   \n",
       "\n",
       "                                           entrances  \n",
       "0  [(35.776886962180946, 51.35172280599907), (35....  \n",
       "1  [(35.739664579692636, 51.31443144145764), (35....  \n",
       "2  [(35.75570514385517, 51.19295988816483), (35.7...  \n",
       "3           [(35.79658985137938, 51.41338109970094)]  \n",
       "4  [(35.68895283867331, 51.33064978262957), (35.6...  \n",
       "5  [(35.701796454352305, 51.33142120773727), (35....  \n",
       "6  [(35.70791048322404, 51.38310372488839), (35.7...  \n",
       "7  [(35.722119418057545, 51.38687942967272), (35....  \n",
       "8  [(35.72532963752746, 51.38824319839477), (35.7...  \n",
       "9  [(35.64745114234185, 51.418958208637854), (35....  "
      ]
     },
     "execution_count": 18,
     "metadata": {},
     "output_type": "execute_result"
    }
   ],
   "source": [
    "# Saving entrances per polygon for insertion into postgres\n",
    "gdf[\"entrances\"] = gdf[\"name\"].map(lambda name: place_entrances.get(name, None))\n",
    "\n",
    "gdf.to_csv(\"../data/places_meta.csv\")\n",
    "gdf"
   ]
  },
  {
   "cell_type": "markdown",
   "metadata": {},
   "source": []
  }
 ],
 "metadata": {
  "kernelspec": {
   "display_name": "snapp-task",
   "language": "python",
   "name": "python3"
  },
  "language_info": {
   "codemirror_mode": {
    "name": "ipython",
    "version": 3
   },
   "file_extension": ".py",
   "mimetype": "text/x-python",
   "name": "python",
   "nbconvert_exporter": "python",
   "pygments_lexer": "ipython3",
   "version": "3.12.0"
  }
 },
 "nbformat": 4,
 "nbformat_minor": 2
}
